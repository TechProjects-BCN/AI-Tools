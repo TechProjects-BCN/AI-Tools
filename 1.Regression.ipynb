{
 "cells": [
  {
   "cell_type": "markdown",
   "metadata": {},
   "source": [
    "# 1.Regression\n",
    "Here you'll find an example of how to predict values given some data and results.\n",
    "An example of this would be to try and find a relationship between Temperature, Humidity and Dew Point.\n",
    "We'll start working on how to predict a straight line and then move to the latter example."
   ]
  },
  {
   "cell_type": "markdown",
   "metadata": {},
   "source": [
    "It is advised to check out the \"0.MachineLearningBasics.ipynb\" before continuing"
   ]
  },
  {
   "cell_type": "markdown",
   "metadata": {},
   "source": [
    "### 1.1 Imports\n",
    "\n",
    "We will be using PyTorch for this, a quite popular framework that was built by facebook and is used by companies like Tesla or Microsoft. There's also the option of using Tensorflow, another popular framework built by Google. The decision of using pytorch is purely subjective but does allow some more in-depth tweaking of the models, what may come in handy.\n",
    "\n",
    "For installation tutorial, check the pytorch website: https://pytorch.org/get-started/locally/\n",
    "\n",
    "or if you want to use it in the browser, checkout the google collaborator version of this notebook:"
   ]
  },
  {
   "cell_type": "code",
   "execution_count": 532,
   "metadata": {},
   "outputs": [
    {
     "data": {
      "text/plain": [
       "'2.1.2+cu121'"
      ]
     },
     "execution_count": 532,
     "metadata": {},
     "output_type": "execute_result"
    }
   ],
   "source": [
    "# Import PyTorch and matplotlib\n",
    "import torch\n",
    "from torch import nn # nn contains all of PyTorch's building blocks for neural networks\n",
    "import matplotlib.pyplot as plt\n",
    "\n",
    "# Check PyTorch version\n",
    "torch.__version__"
   ]
  },
  {
   "cell_type": "markdown",
   "metadata": {},
   "source": [
    "Here we're gonna create device agnostic code. Is completely optional, but throughout this notebook we'll use it to allow for the use of a GPU if available"
   ]
  },
  {
   "cell_type": "code",
   "execution_count": 533,
   "metadata": {},
   "outputs": [
    {
     "name": "stdout",
     "output_type": "stream",
     "text": [
      "Using device: cuda\n"
     ]
    }
   ],
   "source": [
    "# Setup device agnostic code\n",
    "device = \"cuda\" if torch.cuda.is_available() else \"cpu\"\n",
    "print(f\"Using device: {device}\")"
   ]
  },
  {
   "cell_type": "markdown",
   "metadata": {},
   "source": [
    "### 1.2 Creating of the Training Data\n",
    "\n",
    "For this first example, we're gonna use a straight line, as it is a great way to understand what happens inside a neural network."
   ]
  },
  {
   "cell_type": "code",
   "execution_count": 534,
   "metadata": {},
   "outputs": [
    {
     "data": {
      "text/plain": [
       "(tensor([[0.0000],\n",
       "         [0.0200],\n",
       "         [0.0400],\n",
       "         [0.0600],\n",
       "         [0.0800],\n",
       "         [0.1000],\n",
       "         [0.1200],\n",
       "         [0.1400],\n",
       "         [0.1600],\n",
       "         [0.1800]]),\n",
       " tensor([[0.3000],\n",
       "         [0.3140],\n",
       "         [0.3280],\n",
       "         [0.3420],\n",
       "         [0.3560],\n",
       "         [0.3700],\n",
       "         [0.3840],\n",
       "         [0.3980],\n",
       "         [0.4120],\n",
       "         [0.4260]]))"
      ]
     },
     "execution_count": 534,
     "metadata": {},
     "output_type": "execute_result"
    }
   ],
   "source": [
    "# Create weight and bias which act as the slope and independent value.\n",
    "weight = 0.7\n",
    "bias = 0.3\n",
    "\n",
    "# Create range values, from where to where will our data go in the X axis\n",
    "start = 0\n",
    "end = 1\n",
    "step = 0.02\n",
    "\n",
    "# Create X and y (features and labels)\n",
    "X = torch.arange(start, end, step).unsqueeze(dim=1) # without unsqueeze, errors will happen later on (shapes within linear layers)\n",
    "y = weight * X + bias \n",
    "X[:10], y[:10]"
   ]
  },
  {
   "cell_type": "markdown",
   "metadata": {},
   "source": [
    "### 1.3 Splitting our data\n",
    "\n",
    "When training an AI model, it is common to split the data between testing set and training set. This is because we want to give the AI only certain data and check the rest afterwards to see how it's performing. If we didn't do this, we would be evaluating our model with data it has already seen before, which is no good."
   ]
  },
  {
   "cell_type": "code",
   "execution_count": 535,
   "metadata": {},
   "outputs": [
    {
     "data": {
      "text/plain": [
       "(40, 40, 10, 10)"
      ]
     },
     "execution_count": 535,
     "metadata": {},
     "output_type": "execute_result"
    }
   ],
   "source": [
    "# importing a splitting function\n",
    "from sklearn.model_selection import train_test_split\n",
    "# Split data\n",
    "X_train, X_test, y_train, y_test = train_test_split(X, y, test_size=0.2)\n",
    "\n",
    "len(X_train), len(y_train), len(X_test), len(y_test)"
   ]
  },
  {
   "cell_type": "markdown",
   "metadata": {},
   "source": [
    "### 1.4 Creating our model\n",
    "\n",
    "For this, we have two options:\n",
    "1. Using a python class, which will allow more customizability, but is more complicated to use.\n",
    "2. Building it sequentially, which is the opposite.\n",
    "\n",
    "If it's the first time you've ever build a model, Option 2 may be a better starting point"
   ]
  },
  {
   "cell_type": "markdown",
   "metadata": {},
   "source": [
    "#### Option 1"
   ]
  },
  {
   "cell_type": "code",
   "execution_count": 536,
   "metadata": {},
   "outputs": [
    {
     "data": {
      "text/plain": [
       "(LinearRegressionModelV2(\n",
       "   (linear_layer): Linear(in_features=1, out_features=1, bias=True)\n",
       " ),\n",
       " OrderedDict([('linear_layer.weight', tensor([[0.7645]])),\n",
       "              ('linear_layer.bias', tensor([0.8300]))]))"
      ]
     },
     "execution_count": 536,
     "metadata": {},
     "output_type": "execute_result"
    }
   ],
   "source": [
    "# Subclass nn.Module to make our model\n",
    "class LinearRegressionModelV2(nn.Module):\n",
    "    def __init__(self):\n",
    "        super().__init__()\n",
    "        # Use nn.Linear() for creating the model parameters\n",
    "        self.linear_layer = nn.Linear(in_features=1, \n",
    "                                      out_features=1)\n",
    "    \n",
    "    # Define the forward computation (input data x flows through nn.Linear())\n",
    "    def forward(self, x: torch.Tensor) -> torch.Tensor:\n",
    "        return self.linear_layer(x)\n",
    "\n",
    "# Set the manual seed when creating the model (this isn't always need but is used for demonstrative purposes, try commenting it out and seeing what happens)\n",
    "torch.manual_seed(42)\n",
    "model_1 = LinearRegressionModelV2()\n",
    "model_1, model_1.state_dict()"
   ]
  },
  {
   "cell_type": "markdown",
   "metadata": {},
   "source": [
    "#### Option 2"
   ]
  },
  {
   "cell_type": "code",
   "execution_count": 537,
   "metadata": {},
   "outputs": [
    {
     "data": {
      "text/plain": [
       "Sequential(\n",
       "  (0): Linear(in_features=1, out_features=1, bias=True)\n",
       ")"
      ]
     },
     "execution_count": 537,
     "metadata": {},
     "output_type": "execute_result"
    }
   ],
   "source": [
    "model_1 = nn.Sequential(\n",
    "    nn.Linear(in_features=1, out_features=1) # 1 layer with one neuron. So we are essentially doing a Linear regression: Y = wx + b\n",
    ")\n",
    "model_1"
   ]
  },
  {
   "cell_type": "code",
   "execution_count": 538,
   "metadata": {},
   "outputs": [
    {
     "data": {
      "text/plain": [
       "device(type='cuda', index=0)"
      ]
     },
     "execution_count": 538,
     "metadata": {},
     "output_type": "execute_result"
    }
   ],
   "source": [
    "# Set model to GPU if it's availalble, otherwise it'll default to CPU\n",
    "model_1.to(device) # the device variable was set above to be \"cuda\" if available or \"cpu\" if not\n",
    "next(model_1.parameters()).device"
   ]
  },
  {
   "cell_type": "markdown",
   "metadata": {},
   "source": [
    "### 1.5 Choosing a Loss Function and Optimizer\n",
    "\n",
    "When training and evaluating a model, a Loss function will determine how \"wrong\" the model got the answer. This is a way of then telling the optimizer to make a \"step\" and update the weights and biases (slopes and independent values of our model) to minimize the error.\n",
    "\n",
    "Essentially we are solving an optimization problem, where the function to optimize is the one we choose as our Loss Function\n",
    "\n",
    "To know what to use or which ones are available, check: https://pytorch.org/docs/stable/nn.html#loss-functions for Loss Functions\n",
    "\n",
    "and : https://pytorch.org/docs/stable/optim.html for optimizers "
   ]
  },
  {
   "cell_type": "code",
   "execution_count": 539,
   "metadata": {},
   "outputs": [],
   "source": [
    "# Create loss function\n",
    "loss_fn = nn.L1Loss() # aka. Mean Absolute Error\n",
    "\n",
    "# Create optimizer\n",
    "optimizer = torch.optim.SGD(params=model_1.parameters(), # optimize newly created model's parameters\n",
    "                            lr=0.01) # lr is the learning rate, which tells the model how much to update the weights and biases each iteration\n",
    "                                     # a big learning rate will make to big of a step every time and so it will never settle on a value.\n",
    "                                     # a small learning rate will take forever to converge or settle on a value"
   ]
  },
  {
   "cell_type": "markdown",
   "metadata": {},
   "source": [
    "### 1.6 Training Our Model"
   ]
  },
  {
   "cell_type": "code",
   "execution_count": 540,
   "metadata": {},
   "outputs": [
    {
     "name": "stdout",
     "output_type": "stream",
     "text": [
      "Epoch: 0 | Train loss: 0.2535172700881958 | Test loss: 0.2910796105861664\n",
      "Epoch: 100 | Train loss: 0.19376806914806366 | Test loss: 0.22988806664943695\n",
      "Epoch: 200 | Train loss: 0.14788547158241272 | Test loss: 0.17533186078071594\n",
      "Epoch: 300 | Train loss: 0.10200285911560059 | Test loss: 0.12077567726373672\n"
     ]
    },
    {
     "name": "stdout",
     "output_type": "stream",
     "text": [
      "Epoch: 400 | Train loss: 0.05612315610051155 | Test loss: 0.06616974622011185\n",
      "Epoch: 500 | Train loss: 0.010240399278700352 | Test loss: 0.011613413691520691\n",
      "Epoch: 600 | Train loss: 0.005713563412427902 | Test loss: 0.006527513265609741\n",
      "Epoch: 700 | Train loss: 0.005713563412427902 | Test loss: 0.006527513265609741\n",
      "Epoch: 800 | Train loss: 0.005713563412427902 | Test loss: 0.006527513265609741\n",
      "Epoch: 900 | Train loss: 0.005713563412427902 | Test loss: 0.006527513265609741\n"
     ]
    }
   ],
   "source": [
    "# Set the number of epochs (aka. number of iterations through the training data)\n",
    "epochs = 1000 \n",
    "\n",
    "# Put data on the available device\n",
    "# Without this, error will happen (not all model/data on device)\n",
    "X_train = X_train.to(device)\n",
    "X_test = X_test.to(device)\n",
    "y_train = y_train.to(device)\n",
    "y_test = y_test.to(device)\n",
    "\n",
    "for epoch in range(epochs):\n",
    "    ### Training\n",
    "    model_1.train() # train mode is on by default after construction\n",
    "\n",
    "    # 1. Forward pass (aka. we predict new data)\n",
    "    y_pred = model_1(X_train)\n",
    "\n",
    "    # 2. Calculate loss (aka. we see how wrong this data is)\n",
    "    loss = loss_fn(y_pred, y_train)\n",
    "\n",
    "    # 3. Zero grad optimizer (this is for the optimizer to start fresh each iteration. It is needed)\n",
    "    optimizer.zero_grad()\n",
    "\n",
    "    # 4. Loss backward (aka. we apply backpropagation. We calculate how wrong each weight and slope is in our model)\n",
    "    loss.backward()\n",
    "\n",
    "    # 5. Step the optimizer (aka. we update the weights and biases according to our learning rate and how wrong they are)\n",
    "    optimizer.step()\n",
    "\n",
    "    ### Testing (aka. see how good the model is when it predicts our testing data)\n",
    "    model_1.eval() # put the model in evaluation mode for testing (inference)\n",
    "    # 1. Forward pass\n",
    "    with torch.inference_mode():\n",
    "        test_pred = model_1(X_test)\n",
    "    \n",
    "        # 2. Calculate the loss\n",
    "        test_loss = loss_fn(test_pred, y_test)\n",
    "\n",
    "    if epoch % 100 == 0:\n",
    "        print(f\"Epoch: {epoch} | Train loss: {loss} | Test loss: {test_loss}\")"
   ]
  },
  {
   "cell_type": "code",
   "execution_count": 541,
   "metadata": {},
   "outputs": [
    {
     "name": "stdout",
     "output_type": "stream",
     "text": [
      "The model learned the following values for weights and bias:\n",
      "OrderedDict([('0.weight', tensor([[0.6972]], device='cuda:0')), ('0.bias', tensor([0.3071], device='cuda:0'))])\n",
      "\n",
      "And the original values for weights and bias are:\n",
      "weights: 0.7, bias: 0.3\n"
     ]
    }
   ],
   "source": [
    "# Find our model's learned parameters (aka. weights and biases)\n",
    "print(\"The model learned the following values for weights and bias:\")\n",
    "print(model_1.state_dict())\n",
    "print(\"\\nAnd the original values for weights and bias are:\")\n",
    "print(f\"weights: {weight}, bias: {bias}\")"
   ]
  },
  {
   "cell_type": "markdown",
   "metadata": {},
   "source": [
    "### 1.7 Making new predictions with our data\n",
    "\n",
    "Now it's time to predict new data with our model"
   ]
  },
  {
   "cell_type": "code",
   "execution_count": 542,
   "metadata": {},
   "outputs": [
    {
     "data": {
      "text/plain": [
       "tensor([[0.8509],\n",
       "        [0.8649],\n",
       "        [0.4047],\n",
       "        [0.8927],\n",
       "        [0.3908],\n",
       "        [0.4744],\n",
       "        [0.4605],\n",
       "        [0.5720],\n",
       "        [0.8788],\n",
       "        [0.5442]], device='cuda:0')"
      ]
     },
     "execution_count": 542,
     "metadata": {},
     "output_type": "execute_result"
    }
   ],
   "source": [
    "# Turn model into evaluation mode\n",
    "model_1.eval()\n",
    "\n",
    "# Make predictions on the test data\n",
    "with torch.inference_mode():\n",
    "    y_preds = model_1(X_test)\n",
    "y_preds"
   ]
  },
  {
   "cell_type": "markdown",
   "metadata": {},
   "source": [
    "### 1.8 Saving and Loading a Model\n",
    "\n",
    "If you don't want to be training the model constantly every time you want to use it, you can save it to a .pth file as follows"
   ]
  },
  {
   "cell_type": "code",
   "execution_count": 543,
   "metadata": {},
   "outputs": [
    {
     "name": "stdout",
     "output_type": "stream",
     "text": [
      "Saving model to: models\\Regression_model_1.pth\n"
     ]
    }
   ],
   "source": [
    "from pathlib import Path\n",
    "\n",
    "# 1. Create models directory \n",
    "MODEL_PATH = Path(\"models\")\n",
    "MODEL_PATH.mkdir(parents=True, exist_ok=True)\n",
    "\n",
    "# 2. Create model save path \n",
    "MODEL_NAME = \"Regression_model_1.pth\"\n",
    "MODEL_SAVE_PATH = MODEL_PATH / MODEL_NAME\n",
    "\n",
    "# 3. Save the model state dict \n",
    "print(f\"Saving model to: {MODEL_SAVE_PATH}\")\n",
    "torch.save(obj=model_1.state_dict(), # only saving the state_dict() only saves the models learned parameters\n",
    "           f=MODEL_SAVE_PATH) "
   ]
  },
  {
   "cell_type": "markdown",
   "metadata": {},
   "source": [
    "To load back our model, we need to first create an empty model and then load our weights and biases into it"
   ]
  },
  {
   "cell_type": "code",
   "execution_count": 544,
   "metadata": {},
   "outputs": [
    {
     "name": "stdout",
     "output_type": "stream",
     "text": [
      "Loaded model:\n",
      "Sequential(\n",
      "  (0): Linear(in_features=1, out_features=1, bias=True)\n",
      ")\n",
      "Model on device:\n",
      "cuda:0\n"
     ]
    }
   ],
   "source": [
    "# Instantiate a fresh instance of LinearRegressionModelV2\n",
    "\n",
    "loaded_model_1 = LinearRegressionModelV2()\n",
    "# or\n",
    "loaded_model_1 = nn.Sequential(\n",
    "    nn.Linear(in_features=1, out_features=1)\n",
    ")\n",
    "\n",
    "# Load model state dict \n",
    "loaded_model_1.load_state_dict(torch.load(MODEL_SAVE_PATH))\n",
    "\n",
    "# Put model to target device (if your data is on GPU, model will have to be on GPU to make predictions)\n",
    "loaded_model_1.to(device)\n",
    "\n",
    "print(f\"Loaded model:\\n{loaded_model_1}\")\n",
    "print(f\"Model on device:\\n{next(loaded_model_1.parameters()).device}\")"
   ]
  },
  {
   "cell_type": "markdown",
   "metadata": {},
   "source": [
    "### 1.9 What just happened?\n",
    "\n",
    "Our model was trained using data we created following the straight line Y = 0.7x + 0.3. From where we got a list of X and Y values.\n",
    "\n",
    "These X and Y values where feed 1000 times into the model and by adjusting ever so slightly to reduce the loss function.\n",
    "\n",
    "If curious how this optimization phase works, you can check out 3b1b's video series on the matter: https://youtube.com/playlist?list=PLZHQObOWTQDNU6R1_67000Dx_ZCJB-3pi&si=nHw9qdHeDoAwVA0N\n"
   ]
  },
  {
   "cell_type": "markdown",
   "metadata": {},
   "source": [
    "### 1.10 Weather Model\n",
    "\n",
    "Now we're going to apply the latter to build a model to predict the dew point given humidity, temperature and preassure"
   ]
  },
  {
   "cell_type": "markdown",
   "metadata": {},
   "source": [
    "As we are now going to use a dataset, we'll use a python library called pandas, that will allow us to analyze and better store the data"
   ]
  },
  {
   "cell_type": "code",
   "execution_count": 545,
   "metadata": {},
   "outputs": [
    {
     "data": {
      "text/plain": [
       "'2.1.2+cu121'"
      ]
     },
     "execution_count": 545,
     "metadata": {},
     "output_type": "execute_result"
    }
   ],
   "source": [
    "import pandas as pd\n",
    "import torch\n",
    "from torch import nn # nn contains all of PyTorch's building blocks for neural networks\n",
    "import matplotlib.pyplot as plt\n",
    "\n",
    "# Check PyTorch version\n",
    "torch.__version__"
   ]
  },
  {
   "cell_type": "code",
   "execution_count": 546,
   "metadata": {},
   "outputs": [
    {
     "data": {
      "text/html": [
       "<div>\n",
       "<style scoped>\n",
       "    .dataframe tbody tr th:only-of-type {\n",
       "        vertical-align: middle;\n",
       "    }\n",
       "\n",
       "    .dataframe tbody tr th {\n",
       "        vertical-align: top;\n",
       "    }\n",
       "\n",
       "    .dataframe thead th {\n",
       "        text-align: right;\n",
       "    }\n",
       "</style>\n",
       "<table border=\"1\" class=\"dataframe\">\n",
       "  <thead>\n",
       "    <tr style=\"text-align: right;\">\n",
       "      <th></th>\n",
       "      <th>ELEVATION</th>\n",
       "      <th>LATITUDE</th>\n",
       "      <th>LONGITUDE</th>\n",
       "      <th>HourlyVisibility</th>\n",
       "      <th>HourlyDryBulbTemperatureF</th>\n",
       "      <th>HourlyDryBulbTemperatureC</th>\n",
       "      <th>HourlyWetBulbTemperatureF</th>\n",
       "      <th>HourlyWetBulbTemperatureC</th>\n",
       "      <th>HourlyDewPointTemperatureF</th>\n",
       "      <th>HourlyDewPointTemperatureC</th>\n",
       "      <th>HourlyRelativeHumidity</th>\n",
       "      <th>HourlyWindSpeed</th>\n",
       "      <th>HourlyStationPressure</th>\n",
       "      <th>HourlyAltimeterSetting</th>\n",
       "      <th>DailySunrise</th>\n",
       "      <th>DailySunset</th>\n",
       "    </tr>\n",
       "  </thead>\n",
       "  <tbody>\n",
       "    <tr>\n",
       "      <th>count</th>\n",
       "      <td>7.420000e+02</td>\n",
       "      <td>7.420000e+02</td>\n",
       "      <td>7.420000e+02</td>\n",
       "      <td>742.000000</td>\n",
       "      <td>742.000000</td>\n",
       "      <td>742.000000</td>\n",
       "      <td>742.000000</td>\n",
       "      <td>742.000000</td>\n",
       "      <td>742.000000</td>\n",
       "      <td>742.000000</td>\n",
       "      <td>742.000000</td>\n",
       "      <td>742.000000</td>\n",
       "      <td>742.000000</td>\n",
       "      <td>742.000000</td>\n",
       "      <td>742.000000</td>\n",
       "      <td>742.000000</td>\n",
       "    </tr>\n",
       "    <tr>\n",
       "      <th>mean</th>\n",
       "      <td>2.018000e+02</td>\n",
       "      <td>4.199500e+01</td>\n",
       "      <td>-8.793360e+01</td>\n",
       "      <td>9.230121</td>\n",
       "      <td>31.628032</td>\n",
       "      <td>-0.208356</td>\n",
       "      <td>27.723720</td>\n",
       "      <td>-2.368868</td>\n",
       "      <td>18.384097</td>\n",
       "      <td>-7.564825</td>\n",
       "      <td>59.570081</td>\n",
       "      <td>10.994609</td>\n",
       "      <td>29.321954</td>\n",
       "      <td>30.041011</td>\n",
       "      <td>1183.549865</td>\n",
       "      <td>1201.628032</td>\n",
       "    </tr>\n",
       "    <tr>\n",
       "      <th>std</th>\n",
       "      <td>5.688176e-14</td>\n",
       "      <td>7.110220e-15</td>\n",
       "      <td>1.422044e-14</td>\n",
       "      <td>2.032510</td>\n",
       "      <td>12.196620</td>\n",
       "      <td>6.778430</td>\n",
       "      <td>11.076008</td>\n",
       "      <td>6.151487</td>\n",
       "      <td>11.859361</td>\n",
       "      <td>6.587330</td>\n",
       "      <td>13.185066</td>\n",
       "      <td>5.668529</td>\n",
       "      <td>0.239476</td>\n",
       "      <td>0.244406</td>\n",
       "      <td>33.919482</td>\n",
       "      <td>1171.760435</td>\n",
       "    </tr>\n",
       "    <tr>\n",
       "      <th>min</th>\n",
       "      <td>2.018000e+02</td>\n",
       "      <td>4.199500e+01</td>\n",
       "      <td>-8.793360e+01</td>\n",
       "      <td>0.500000</td>\n",
       "      <td>-1.000000</td>\n",
       "      <td>-18.300000</td>\n",
       "      <td>-2.000000</td>\n",
       "      <td>-19.200000</td>\n",
       "      <td>-17.000000</td>\n",
       "      <td>-27.200000</td>\n",
       "      <td>24.000000</td>\n",
       "      <td>0.000000</td>\n",
       "      <td>28.690000</td>\n",
       "      <td>29.400000</td>\n",
       "      <td>1135.000000</td>\n",
       "      <td>0.000000</td>\n",
       "    </tr>\n",
       "    <tr>\n",
       "      <th>25%</th>\n",
       "      <td>2.018000e+02</td>\n",
       "      <td>4.199500e+01</td>\n",
       "      <td>-8.793360e+01</td>\n",
       "      <td>10.000000</td>\n",
       "      <td>22.000000</td>\n",
       "      <td>-5.600000</td>\n",
       "      <td>19.000000</td>\n",
       "      <td>-7.200000</td>\n",
       "      <td>9.000000</td>\n",
       "      <td>-12.800000</td>\n",
       "      <td>51.000000</td>\n",
       "      <td>7.000000</td>\n",
       "      <td>29.130000</td>\n",
       "      <td>29.850000</td>\n",
       "      <td>1149.000000</td>\n",
       "      <td>8.000000</td>\n",
       "    </tr>\n",
       "    <tr>\n",
       "      <th>50%</th>\n",
       "      <td>2.018000e+02</td>\n",
       "      <td>4.199500e+01</td>\n",
       "      <td>-8.793360e+01</td>\n",
       "      <td>10.000000</td>\n",
       "      <td>32.000000</td>\n",
       "      <td>0.000000</td>\n",
       "      <td>28.500000</td>\n",
       "      <td>-1.950000</td>\n",
       "      <td>20.000000</td>\n",
       "      <td>-6.700000</td>\n",
       "      <td>61.000000</td>\n",
       "      <td>10.000000</td>\n",
       "      <td>29.350000</td>\n",
       "      <td>30.070000</td>\n",
       "      <td>1202.000000</td>\n",
       "      <td>2342.000000</td>\n",
       "    </tr>\n",
       "    <tr>\n",
       "      <th>75%</th>\n",
       "      <td>2.018000e+02</td>\n",
       "      <td>4.199500e+01</td>\n",
       "      <td>-8.793360e+01</td>\n",
       "      <td>10.000000</td>\n",
       "      <td>40.000000</td>\n",
       "      <td>4.400000</td>\n",
       "      <td>36.000000</td>\n",
       "      <td>2.000000</td>\n",
       "      <td>28.000000</td>\n",
       "      <td>-2.200000</td>\n",
       "      <td>70.000000</td>\n",
       "      <td>15.000000</td>\n",
       "      <td>29.510000</td>\n",
       "      <td>30.230000</td>\n",
       "      <td>1215.500000</td>\n",
       "      <td>2351.000000</td>\n",
       "    </tr>\n",
       "    <tr>\n",
       "      <th>max</th>\n",
       "      <td>2.018000e+02</td>\n",
       "      <td>4.199500e+01</td>\n",
       "      <td>-8.793360e+01</td>\n",
       "      <td>10.000000</td>\n",
       "      <td>67.000000</td>\n",
       "      <td>19.400000</td>\n",
       "      <td>59.000000</td>\n",
       "      <td>15.200000</td>\n",
       "      <td>47.000000</td>\n",
       "      <td>8.300000</td>\n",
       "      <td>89.000000</td>\n",
       "      <td>29.000000</td>\n",
       "      <td>29.740000</td>\n",
       "      <td>30.470000</td>\n",
       "      <td>1227.000000</td>\n",
       "      <td>2359.000000</td>\n",
       "    </tr>\n",
       "  </tbody>\n",
       "</table>\n",
       "</div>"
      ],
      "text/plain": [
       "          ELEVATION      LATITUDE     LONGITUDE  HourlyVisibility  \\\n",
       "count  7.420000e+02  7.420000e+02  7.420000e+02        742.000000   \n",
       "mean   2.018000e+02  4.199500e+01 -8.793360e+01          9.230121   \n",
       "std    5.688176e-14  7.110220e-15  1.422044e-14          2.032510   \n",
       "min    2.018000e+02  4.199500e+01 -8.793360e+01          0.500000   \n",
       "25%    2.018000e+02  4.199500e+01 -8.793360e+01         10.000000   \n",
       "50%    2.018000e+02  4.199500e+01 -8.793360e+01         10.000000   \n",
       "75%    2.018000e+02  4.199500e+01 -8.793360e+01         10.000000   \n",
       "max    2.018000e+02  4.199500e+01 -8.793360e+01         10.000000   \n",
       "\n",
       "       HourlyDryBulbTemperatureF  HourlyDryBulbTemperatureC  \\\n",
       "count                 742.000000                 742.000000   \n",
       "mean                   31.628032                  -0.208356   \n",
       "std                    12.196620                   6.778430   \n",
       "min                    -1.000000                 -18.300000   \n",
       "25%                    22.000000                  -5.600000   \n",
       "50%                    32.000000                   0.000000   \n",
       "75%                    40.000000                   4.400000   \n",
       "max                    67.000000                  19.400000   \n",
       "\n",
       "       HourlyWetBulbTemperatureF  HourlyWetBulbTemperatureC  \\\n",
       "count                 742.000000                 742.000000   \n",
       "mean                   27.723720                  -2.368868   \n",
       "std                    11.076008                   6.151487   \n",
       "min                    -2.000000                 -19.200000   \n",
       "25%                    19.000000                  -7.200000   \n",
       "50%                    28.500000                  -1.950000   \n",
       "75%                    36.000000                   2.000000   \n",
       "max                    59.000000                  15.200000   \n",
       "\n",
       "       HourlyDewPointTemperatureF  HourlyDewPointTemperatureC  \\\n",
       "count                  742.000000                  742.000000   \n",
       "mean                    18.384097                   -7.564825   \n",
       "std                     11.859361                    6.587330   \n",
       "min                    -17.000000                  -27.200000   \n",
       "25%                      9.000000                  -12.800000   \n",
       "50%                     20.000000                   -6.700000   \n",
       "75%                     28.000000                   -2.200000   \n",
       "max                     47.000000                    8.300000   \n",
       "\n",
       "       HourlyRelativeHumidity  HourlyWindSpeed  HourlyStationPressure  \\\n",
       "count              742.000000       742.000000             742.000000   \n",
       "mean                59.570081        10.994609              29.321954   \n",
       "std                 13.185066         5.668529               0.239476   \n",
       "min                 24.000000         0.000000              28.690000   \n",
       "25%                 51.000000         7.000000              29.130000   \n",
       "50%                 61.000000        10.000000              29.350000   \n",
       "75%                 70.000000        15.000000              29.510000   \n",
       "max                 89.000000        29.000000              29.740000   \n",
       "\n",
       "       HourlyAltimeterSetting  DailySunrise  DailySunset  \n",
       "count              742.000000    742.000000   742.000000  \n",
       "mean                30.041011   1183.549865  1201.628032  \n",
       "std                  0.244406     33.919482  1171.760435  \n",
       "min                 29.400000   1135.000000     0.000000  \n",
       "25%                 29.850000   1149.000000     8.000000  \n",
       "50%                 30.070000   1202.000000  2342.000000  \n",
       "75%                 30.230000   1215.500000  2351.000000  \n",
       "max                 30.470000   1227.000000  2359.000000  "
      ]
     },
     "execution_count": 546,
     "metadata": {},
     "output_type": "execute_result"
    }
   ],
   "source": [
    "data = pd.read_csv('./data/LCD_sample_csv.csv') # Source: National Centers for Environmental Information (ncei.noaa.gov)\n",
    "data.describe()"
   ]
  },
  {
   "cell_type": "markdown",
   "metadata": {},
   "source": [
    "This dataset contains way too much information that we do not need, so lets clean up the redundant info"
   ]
  },
  {
   "cell_type": "code",
   "execution_count": 547,
   "metadata": {},
   "outputs": [
    {
     "data": {
      "text/html": [
       "<div>\n",
       "<style scoped>\n",
       "    .dataframe tbody tr th:only-of-type {\n",
       "        vertical-align: middle;\n",
       "    }\n",
       "\n",
       "    .dataframe tbody tr th {\n",
       "        vertical-align: top;\n",
       "    }\n",
       "\n",
       "    .dataframe thead th {\n",
       "        text-align: right;\n",
       "    }\n",
       "</style>\n",
       "<table border=\"1\" class=\"dataframe\">\n",
       "  <thead>\n",
       "    <tr style=\"text-align: right;\">\n",
       "      <th></th>\n",
       "      <th>ELEVATION</th>\n",
       "      <th>LATITUDE</th>\n",
       "      <th>LONGITUDE</th>\n",
       "      <th>HourlyVisibility</th>\n",
       "      <th>HourlyDryBulbTemperatureF</th>\n",
       "      <th>HourlyDryBulbTemperatureC</th>\n",
       "      <th>HourlyWetBulbTemperatureF</th>\n",
       "      <th>HourlyWetBulbTemperatureC</th>\n",
       "      <th>HourlyDewPointTemperatureF</th>\n",
       "      <th>HourlyDewPointTemperatureC</th>\n",
       "      <th>HourlyRelativeHumidity</th>\n",
       "      <th>HourlyWindSpeed</th>\n",
       "      <th>HourlyStationPressure</th>\n",
       "      <th>HourlyAltimeterSetting</th>\n",
       "      <th>DailySunrise</th>\n",
       "      <th>DailySunset</th>\n",
       "    </tr>\n",
       "  </thead>\n",
       "  <tbody>\n",
       "    <tr>\n",
       "      <th>count</th>\n",
       "      <td>7.420000e+02</td>\n",
       "      <td>7.420000e+02</td>\n",
       "      <td>7.420000e+02</td>\n",
       "      <td>742.000000</td>\n",
       "      <td>742.000000</td>\n",
       "      <td>742.000000</td>\n",
       "      <td>742.000000</td>\n",
       "      <td>742.000000</td>\n",
       "      <td>742.000000</td>\n",
       "      <td>742.000000</td>\n",
       "      <td>742.000000</td>\n",
       "      <td>742.000000</td>\n",
       "      <td>742.000000</td>\n",
       "      <td>742.000000</td>\n",
       "      <td>742.000000</td>\n",
       "      <td>742.000000</td>\n",
       "    </tr>\n",
       "    <tr>\n",
       "      <th>mean</th>\n",
       "      <td>2.018000e+02</td>\n",
       "      <td>4.199500e+01</td>\n",
       "      <td>-8.793360e+01</td>\n",
       "      <td>9.230121</td>\n",
       "      <td>31.628032</td>\n",
       "      <td>-0.208356</td>\n",
       "      <td>27.723720</td>\n",
       "      <td>-2.368868</td>\n",
       "      <td>18.384097</td>\n",
       "      <td>-7.564825</td>\n",
       "      <td>59.570081</td>\n",
       "      <td>10.994609</td>\n",
       "      <td>29.321954</td>\n",
       "      <td>30.041011</td>\n",
       "      <td>1183.549865</td>\n",
       "      <td>1201.628032</td>\n",
       "    </tr>\n",
       "    <tr>\n",
       "      <th>std</th>\n",
       "      <td>5.688176e-14</td>\n",
       "      <td>7.110220e-15</td>\n",
       "      <td>1.422044e-14</td>\n",
       "      <td>2.032510</td>\n",
       "      <td>12.196620</td>\n",
       "      <td>6.778430</td>\n",
       "      <td>11.076008</td>\n",
       "      <td>6.151487</td>\n",
       "      <td>11.859361</td>\n",
       "      <td>6.587330</td>\n",
       "      <td>13.185066</td>\n",
       "      <td>5.668529</td>\n",
       "      <td>0.239476</td>\n",
       "      <td>0.244406</td>\n",
       "      <td>33.919482</td>\n",
       "      <td>1171.760435</td>\n",
       "    </tr>\n",
       "    <tr>\n",
       "      <th>min</th>\n",
       "      <td>2.018000e+02</td>\n",
       "      <td>4.199500e+01</td>\n",
       "      <td>-8.793360e+01</td>\n",
       "      <td>0.500000</td>\n",
       "      <td>-1.000000</td>\n",
       "      <td>-18.300000</td>\n",
       "      <td>-2.000000</td>\n",
       "      <td>-19.200000</td>\n",
       "      <td>-17.000000</td>\n",
       "      <td>-27.200000</td>\n",
       "      <td>24.000000</td>\n",
       "      <td>0.000000</td>\n",
       "      <td>28.690000</td>\n",
       "      <td>29.400000</td>\n",
       "      <td>1135.000000</td>\n",
       "      <td>0.000000</td>\n",
       "    </tr>\n",
       "    <tr>\n",
       "      <th>25%</th>\n",
       "      <td>2.018000e+02</td>\n",
       "      <td>4.199500e+01</td>\n",
       "      <td>-8.793360e+01</td>\n",
       "      <td>10.000000</td>\n",
       "      <td>22.000000</td>\n",
       "      <td>-5.600000</td>\n",
       "      <td>19.000000</td>\n",
       "      <td>-7.200000</td>\n",
       "      <td>9.000000</td>\n",
       "      <td>-12.800000</td>\n",
       "      <td>51.000000</td>\n",
       "      <td>7.000000</td>\n",
       "      <td>29.130000</td>\n",
       "      <td>29.850000</td>\n",
       "      <td>1149.000000</td>\n",
       "      <td>8.000000</td>\n",
       "    </tr>\n",
       "    <tr>\n",
       "      <th>50%</th>\n",
       "      <td>2.018000e+02</td>\n",
       "      <td>4.199500e+01</td>\n",
       "      <td>-8.793360e+01</td>\n",
       "      <td>10.000000</td>\n",
       "      <td>32.000000</td>\n",
       "      <td>0.000000</td>\n",
       "      <td>28.500000</td>\n",
       "      <td>-1.950000</td>\n",
       "      <td>20.000000</td>\n",
       "      <td>-6.700000</td>\n",
       "      <td>61.000000</td>\n",
       "      <td>10.000000</td>\n",
       "      <td>29.350000</td>\n",
       "      <td>30.070000</td>\n",
       "      <td>1202.000000</td>\n",
       "      <td>2342.000000</td>\n",
       "    </tr>\n",
       "    <tr>\n",
       "      <th>75%</th>\n",
       "      <td>2.018000e+02</td>\n",
       "      <td>4.199500e+01</td>\n",
       "      <td>-8.793360e+01</td>\n",
       "      <td>10.000000</td>\n",
       "      <td>40.000000</td>\n",
       "      <td>4.400000</td>\n",
       "      <td>36.000000</td>\n",
       "      <td>2.000000</td>\n",
       "      <td>28.000000</td>\n",
       "      <td>-2.200000</td>\n",
       "      <td>70.000000</td>\n",
       "      <td>15.000000</td>\n",
       "      <td>29.510000</td>\n",
       "      <td>30.230000</td>\n",
       "      <td>1215.500000</td>\n",
       "      <td>2351.000000</td>\n",
       "    </tr>\n",
       "    <tr>\n",
       "      <th>max</th>\n",
       "      <td>2.018000e+02</td>\n",
       "      <td>4.199500e+01</td>\n",
       "      <td>-8.793360e+01</td>\n",
       "      <td>10.000000</td>\n",
       "      <td>67.000000</td>\n",
       "      <td>19.400000</td>\n",
       "      <td>59.000000</td>\n",
       "      <td>15.200000</td>\n",
       "      <td>47.000000</td>\n",
       "      <td>8.300000</td>\n",
       "      <td>89.000000</td>\n",
       "      <td>29.000000</td>\n",
       "      <td>29.740000</td>\n",
       "      <td>30.470000</td>\n",
       "      <td>1227.000000</td>\n",
       "      <td>2359.000000</td>\n",
       "    </tr>\n",
       "  </tbody>\n",
       "</table>\n",
       "</div>"
      ],
      "text/plain": [
       "          ELEVATION      LATITUDE     LONGITUDE  HourlyVisibility  \\\n",
       "count  7.420000e+02  7.420000e+02  7.420000e+02        742.000000   \n",
       "mean   2.018000e+02  4.199500e+01 -8.793360e+01          9.230121   \n",
       "std    5.688176e-14  7.110220e-15  1.422044e-14          2.032510   \n",
       "min    2.018000e+02  4.199500e+01 -8.793360e+01          0.500000   \n",
       "25%    2.018000e+02  4.199500e+01 -8.793360e+01         10.000000   \n",
       "50%    2.018000e+02  4.199500e+01 -8.793360e+01         10.000000   \n",
       "75%    2.018000e+02  4.199500e+01 -8.793360e+01         10.000000   \n",
       "max    2.018000e+02  4.199500e+01 -8.793360e+01         10.000000   \n",
       "\n",
       "       HourlyDryBulbTemperatureF  HourlyDryBulbTemperatureC  \\\n",
       "count                 742.000000                 742.000000   \n",
       "mean                   31.628032                  -0.208356   \n",
       "std                    12.196620                   6.778430   \n",
       "min                    -1.000000                 -18.300000   \n",
       "25%                    22.000000                  -5.600000   \n",
       "50%                    32.000000                   0.000000   \n",
       "75%                    40.000000                   4.400000   \n",
       "max                    67.000000                  19.400000   \n",
       "\n",
       "       HourlyWetBulbTemperatureF  HourlyWetBulbTemperatureC  \\\n",
       "count                 742.000000                 742.000000   \n",
       "mean                   27.723720                  -2.368868   \n",
       "std                    11.076008                   6.151487   \n",
       "min                    -2.000000                 -19.200000   \n",
       "25%                    19.000000                  -7.200000   \n",
       "50%                    28.500000                  -1.950000   \n",
       "75%                    36.000000                   2.000000   \n",
       "max                    59.000000                  15.200000   \n",
       "\n",
       "       HourlyDewPointTemperatureF  HourlyDewPointTemperatureC  \\\n",
       "count                  742.000000                  742.000000   \n",
       "mean                    18.384097                   -7.564825   \n",
       "std                     11.859361                    6.587330   \n",
       "min                    -17.000000                  -27.200000   \n",
       "25%                      9.000000                  -12.800000   \n",
       "50%                     20.000000                   -6.700000   \n",
       "75%                     28.000000                   -2.200000   \n",
       "max                     47.000000                    8.300000   \n",
       "\n",
       "       HourlyRelativeHumidity  HourlyWindSpeed  HourlyStationPressure  \\\n",
       "count              742.000000       742.000000             742.000000   \n",
       "mean                59.570081        10.994609              29.321954   \n",
       "std                 13.185066         5.668529               0.239476   \n",
       "min                 24.000000         0.000000              28.690000   \n",
       "25%                 51.000000         7.000000              29.130000   \n",
       "50%                 61.000000        10.000000              29.350000   \n",
       "75%                 70.000000        15.000000              29.510000   \n",
       "max                 89.000000        29.000000              29.740000   \n",
       "\n",
       "       HourlyAltimeterSetting  DailySunrise  DailySunset  \n",
       "count              742.000000    742.000000   742.000000  \n",
       "mean                30.041011   1183.549865  1201.628032  \n",
       "std                  0.244406     33.919482  1171.760435  \n",
       "min                 29.400000   1135.000000     0.000000  \n",
       "25%                 29.850000   1149.000000     8.000000  \n",
       "50%                 30.070000   1202.000000  2342.000000  \n",
       "75%                 30.230000   1215.500000  2351.000000  \n",
       "max                 30.470000   1227.000000  2359.000000  "
      ]
     },
     "execution_count": 547,
     "metadata": {},
     "output_type": "execute_result"
    }
   ],
   "source": [
    "data.dropna()\n",
    "data.describe()"
   ]
  },
  {
   "cell_type": "code",
   "execution_count": 548,
   "metadata": {},
   "outputs": [
    {
     "data": {
      "text/html": [
       "<div>\n",
       "<style scoped>\n",
       "    .dataframe tbody tr th:only-of-type {\n",
       "        vertical-align: middle;\n",
       "    }\n",
       "\n",
       "    .dataframe tbody tr th {\n",
       "        vertical-align: top;\n",
       "    }\n",
       "\n",
       "    .dataframe thead th {\n",
       "        text-align: right;\n",
       "    }\n",
       "</style>\n",
       "<table border=\"1\" class=\"dataframe\">\n",
       "  <thead>\n",
       "    <tr style=\"text-align: right;\">\n",
       "      <th></th>\n",
       "      <th>HourlyDryBulbTemperatureC</th>\n",
       "      <th>HourlyDewPointTemperatureC</th>\n",
       "      <th>HourlyStationPressure</th>\n",
       "      <th>HourlyRelativeHumidity</th>\n",
       "    </tr>\n",
       "  </thead>\n",
       "  <tbody>\n",
       "    <tr>\n",
       "      <th>0</th>\n",
       "      <td>-1.1</td>\n",
       "      <td>-8.9</td>\n",
       "      <td>29.28</td>\n",
       "      <td>56</td>\n",
       "    </tr>\n",
       "    <tr>\n",
       "      <th>1</th>\n",
       "      <td>-1.1</td>\n",
       "      <td>-8.3</td>\n",
       "      <td>29.27</td>\n",
       "      <td>58</td>\n",
       "    </tr>\n",
       "    <tr>\n",
       "      <th>2</th>\n",
       "      <td>-1.7</td>\n",
       "      <td>-6.1</td>\n",
       "      <td>29.28</td>\n",
       "      <td>72</td>\n",
       "    </tr>\n",
       "    <tr>\n",
       "      <th>3</th>\n",
       "      <td>-2.2</td>\n",
       "      <td>-5.0</td>\n",
       "      <td>29.29</td>\n",
       "      <td>81</td>\n",
       "    </tr>\n",
       "    <tr>\n",
       "      <th>4</th>\n",
       "      <td>-3.3</td>\n",
       "      <td>-6.7</td>\n",
       "      <td>29.32</td>\n",
       "      <td>78</td>\n",
       "    </tr>\n",
       "  </tbody>\n",
       "</table>\n",
       "</div>"
      ],
      "text/plain": [
       "   HourlyDryBulbTemperatureC  HourlyDewPointTemperatureC  \\\n",
       "0                       -1.1                        -8.9   \n",
       "1                       -1.1                        -8.3   \n",
       "2                       -1.7                        -6.1   \n",
       "3                       -2.2                        -5.0   \n",
       "4                       -3.3                        -6.7   \n",
       "\n",
       "   HourlyStationPressure  HourlyRelativeHumidity  \n",
       "0                  29.28                      56  \n",
       "1                  29.27                      58  \n",
       "2                  29.28                      72  \n",
       "3                  29.29                      81  \n",
       "4                  29.32                      78  "
      ]
     },
     "execution_count": 548,
     "metadata": {},
     "output_type": "execute_result"
    }
   ],
   "source": [
    "data_labels = [\"HourlyDryBulbTemperatureC\", \"HourlyDewPointTemperatureC\", \"HourlyStationPressure\", \"HourlyRelativeHumidity\"]\n",
    "data = data[data_labels]\n",
    "data.head()"
   ]
  },
  {
   "cell_type": "markdown",
   "metadata": {},
   "source": [
    "Now, we could try and see what relationships there are between the data. Is Preassure related to the dewpoint? And temperature?"
   ]
  },
  {
   "cell_type": "code",
   "execution_count": 549,
   "metadata": {},
   "outputs": [
    {
     "data": {
      "text/plain": [
       "Text(0, 0.5, '%')"
      ]
     },
     "execution_count": 549,
     "metadata": {},
     "output_type": "execute_result"
    },
    {
     "data": {
      "image/png": "[encoded data removed]",
      "text/plain": [
       "<Figure size 2000x600 with 3 Axes>"
      ]
     },
     "metadata": {},
     "output_type": "display_data"
    }
   ],
   "source": [
    "import matplotlib.pyplot as plt\n",
    "plt.figure(figsize=(20, 6))\n",
    "plt.subplot(1, 3, 1)\n",
    "plt.scatter(data[\"HourlyDewPointTemperatureC\"], data[\"HourlyStationPressure\"]) \n",
    "plt.xlabel(\"DewPoint [ºC]\")\n",
    "plt.ylabel(\"Preassure [inHg]\")\n",
    "\n",
    "\n",
    "plt.subplot(1, 3, 2)\n",
    "plt.scatter(data[\"HourlyDewPointTemperatureC\"], data[\"HourlyDryBulbTemperatureC\"]) \n",
    "plt.xlabel(\"DewPoint [ºC]\")\n",
    "plt.ylabel(\"Temperature [ºC]\")\n",
    "\n",
    "plt.subplot(1, 3, 3)\n",
    "plt.scatter(data[\"HourlyDewPointTemperatureC\"], data[\"HourlyRelativeHumidity\"]) \n",
    "plt.xlabel(\"DewPoint [ºC]\")\n",
    "plt.ylabel(\"%\")"
   ]
  },
  {
   "cell_type": "markdown",
   "metadata": {},
   "source": [
    "For preassures we can clearly see a negative correlation: With lower preassures, higher dewpoints.\n",
    "And for temperatures, also a positive correlation.\n",
    "Humidity does not present a remarkable relationship, but a positive one can still be seen"
   ]
  },
  {
   "cell_type": "markdown",
   "metadata": {},
   "source": [
    "### 1.11 Splitting the data and building the model\n",
    "\n",
    "Now, let's get to work and build the model we're going to use to predict dewpoints from temperature and preassure values"
   ]
  },
  {
   "cell_type": "markdown",
   "metadata": {},
   "source": [
    "To make it simpler we're gonna use a Sequential Model, but it could be done with a class too"
   ]
  },
  {
   "cell_type": "code",
   "execution_count": 550,
   "metadata": {},
   "outputs": [
    {
     "name": "stdout",
     "output_type": "stream",
     "text": [
      "Using device: cuda\n"
     ]
    }
   ],
   "source": [
    "# Setup device agnostic code\n",
    "device = \"cuda\" if torch.cuda.is_available() else \"cpu\"\n",
    "print(f\"Using device: {device}\")"
   ]
  },
  {
   "cell_type": "code",
   "execution_count": 551,
   "metadata": {},
   "outputs": [],
   "source": [
    "weather_model_0 = nn.Sequential(\n",
    "    nn.Linear(in_features=3, out_features=1) # We have 3 Data points from which we want to predict 1 data point\n",
    ").to(device)"
   ]
  },
  {
   "cell_type": "code",
   "execution_count": 552,
   "metadata": {},
   "outputs": [
    {
     "data": {
      "text/plain": [
       "OrderedDict([('0.weight',\n",
       "              tensor([[ 0.5090, -0.4236,  0.5018]], device='cuda:0')),\n",
       "             ('0.bias', tensor([0.1081], device='cuda:0'))])"
      ]
     },
     "execution_count": 552,
     "metadata": {},
     "output_type": "execute_result"
    }
   ],
   "source": [
    "weather_model_0.state_dict()"
   ]
  },
  {
   "cell_type": "markdown",
   "metadata": {},
   "source": [
    "All of our data is in the panda's format, so let's convert it into PyTorch Tensors"
   ]
  },
  {
   "cell_type": "code",
   "execution_count": 553,
   "metadata": {},
   "outputs": [
    {
     "data": {
      "text/plain": [
       "(torch.Size([742, 3]), (742,))"
      ]
     },
     "execution_count": 553,
     "metadata": {},
     "output_type": "execute_result"
    }
   ],
   "source": [
    "DewPoint = data.pop(\"HourlyDewPointTemperatureC\")\n",
    "tensor_data = torch.from_numpy(data.to_numpy()).to(device).type(torch.float)\n",
    "tensor_DewPoint = torch.from_numpy(DewPoint.to_numpy()).to(device).type(torch.float).unsqueeze(dim=1)\n",
    "tensor_data.shape, DewPoint.shape"
   ]
  },
  {
   "cell_type": "code",
   "execution_count": 554,
   "metadata": {},
   "outputs": [
    {
     "data": {
      "text/plain": [
       "torch.Size([593, 3])"
      ]
     },
     "execution_count": 554,
     "metadata": {},
     "output_type": "execute_result"
    }
   ],
   "source": [
    "# importing a splitting function\n",
    "from sklearn.model_selection import train_test_split\n",
    "# Split data\n",
    "\n",
    "X_train, X_test, y_train, y_test = train_test_split(tensor_data, tensor_DewPoint, test_size=0.2)\n",
    "\n",
    "len(X_train), len(y_train), len(X_test), len(y_test)\n",
    "X_train.shape"
   ]
  },
  {
   "cell_type": "markdown",
   "metadata": {},
   "source": [
    "### 1.12 Training the model"
   ]
  },
  {
   "cell_type": "code",
   "execution_count": 555,
   "metadata": {},
   "outputs": [],
   "source": [
    "# Create loss function\n",
    "loss_fn = nn.L1Loss()\n",
    "\n",
    "# Create optimizer\n",
    "optimizer = torch.optim.SGD(params=weather_model_0.parameters(), lr=0.001)"
   ]
  },
  {
   "cell_type": "code",
   "execution_count": 556,
   "metadata": {},
   "outputs": [
    {
     "name": "stdout",
     "output_type": "stream",
     "text": [
      "Epoch: 0 | Train loss: 25.09847640991211 | Test loss: 20.41942024230957\n",
      "Epoch: 100 | Train loss: 2.5585339069366455 | Test loss: 1.656167984008789\n"
     ]
    },
    {
     "name": "stdout",
     "output_type": "stream",
     "text": [
      "Epoch: 200 | Train loss: 2.568514108657837 | Test loss: 1.7460651397705078\n",
      "Epoch: 300 | Train loss: 2.511178970336914 | Test loss: 1.8405499458312988\n",
      "Epoch: 400 | Train loss: 2.4307548999786377 | Test loss: 1.9238007068634033\n",
      "Epoch: 500 | Train loss: 2.346048593521118 | Test loss: 2.0044870376586914\n",
      "Epoch: 600 | Train loss: 2.2999162673950195 | Test loss: 2.0559799671173096\n",
      "Epoch: 700 | Train loss: 2.2380177974700928 | Test loss: 2.1266753673553467\n",
      "Epoch: 800 | Train loss: 2.1650736331939697 | Test loss: 2.1628470420837402\n",
      "Epoch: 900 | Train loss: 2.1307260990142822 | Test loss: 2.206362009048462\n"
     ]
    }
   ],
   "source": [
    "# Set the number of epochs (aka. number of iterations through the training data)\n",
    "epochs = 1000 \n",
    "\n",
    "# Put data on the available device\n",
    "# Without this, error will happen (not all model/data on device)\n",
    "X_train = X_train.to(device)\n",
    "X_test = X_test.to(device)\n",
    "y_train = y_train.to(device)\n",
    "y_test = y_test.to(device)\n",
    "\n",
    "for epoch in range(epochs):\n",
    "    weather_model_0.train()\n",
    "\n",
    "    y_pred = weather_model_0(X_train)\n",
    "\n",
    "    loss = loss_fn(y_pred, y_train)\n",
    "\n",
    "    optimizer.zero_grad()\n",
    "\n",
    "    loss.backward()\n",
    "\n",
    "    optimizer.step()\n",
    "\n",
    "    weather_model_0.eval()\n",
    "    with torch.inference_mode():\n",
    "        test_pred = weather_model_0(X_test)\n",
    "    \n",
    "        test_loss = loss_fn(test_pred, y_test)\n",
    "\n",
    "    if epoch % 100 == 0:\n",
    "        print(f\"Epoch: {epoch} | Train loss: {loss} | Test loss: {test_loss}\")"
   ]
  },
  {
   "cell_type": "markdown",
   "metadata": {},
   "source": [
    "### 1.13 Evaluating the model\n",
    "We can clearly see that the model has converged, so let's see how good it is"
   ]
  },
  {
   "cell_type": "code",
   "execution_count": 557,
   "metadata": {},
   "outputs": [
    {
     "data": {
      "text/html": [
       "<div>\n",
       "<style scoped>\n",
       "    .dataframe tbody tr th:only-of-type {\n",
       "        vertical-align: middle;\n",
       "    }\n",
       "\n",
       "    .dataframe tbody tr th {\n",
       "        vertical-align: top;\n",
       "    }\n",
       "\n",
       "    .dataframe thead th {\n",
       "        text-align: right;\n",
       "    }\n",
       "</style>\n",
       "<table border=\"1\" class=\"dataframe\">\n",
       "  <thead>\n",
       "    <tr style=\"text-align: right;\">\n",
       "      <th></th>\n",
       "      <th>HourlyDryBulbTemperatureC</th>\n",
       "      <th>HourlyStationPressure</th>\n",
       "      <th>HourlyRelativeHumidity</th>\n",
       "    </tr>\n",
       "  </thead>\n",
       "  <tbody>\n",
       "    <tr>\n",
       "      <th>0</th>\n",
       "      <td>-1.1</td>\n",
       "      <td>29.28</td>\n",
       "      <td>56</td>\n",
       "    </tr>\n",
       "    <tr>\n",
       "      <th>1</th>\n",
       "      <td>-1.1</td>\n",
       "      <td>29.27</td>\n",
       "      <td>58</td>\n",
       "    </tr>\n",
       "    <tr>\n",
       "      <th>2</th>\n",
       "      <td>-1.7</td>\n",
       "      <td>29.28</td>\n",
       "      <td>72</td>\n",
       "    </tr>\n",
       "    <tr>\n",
       "      <th>3</th>\n",
       "      <td>-2.2</td>\n",
       "      <td>29.29</td>\n",
       "      <td>81</td>\n",
       "    </tr>\n",
       "    <tr>\n",
       "      <th>4</th>\n",
       "      <td>-3.3</td>\n",
       "      <td>29.32</td>\n",
       "      <td>78</td>\n",
       "    </tr>\n",
       "  </tbody>\n",
       "</table>\n",
       "</div>"
      ],
      "text/plain": [
       "   HourlyDryBulbTemperatureC  HourlyStationPressure  HourlyRelativeHumidity\n",
       "0                       -1.1                  29.28                      56\n",
       "1                       -1.1                  29.27                      58\n",
       "2                       -1.7                  29.28                      72\n",
       "3                       -2.2                  29.29                      81\n",
       "4                       -3.3                  29.32                      78"
      ]
     },
     "execution_count": 557,
     "metadata": {},
     "output_type": "execute_result"
    }
   ],
   "source": [
    "data.head()"
   ]
  },
  {
   "cell_type": "code",
   "execution_count": 558,
   "metadata": {},
   "outputs": [
    {
     "data": {
      "text/plain": [
       "(0.7925184965133667,\n",
       " -0.7633261680603027,\n",
       " 0.21451272070407867,\n",
       " 0.09681210666894913)"
      ]
     },
     "execution_count": 558,
     "metadata": {},
     "output_type": "execute_result"
    }
   ],
   "source": [
    "w0 = weather_model_0.state_dict()[\"0.weight\"][0][0].item()\n",
    "w1 = weather_model_0.state_dict()[\"0.weight\"][0][1].item()\n",
    "w2 = weather_model_0.state_dict()[\"0.weight\"][0][2].item()\n",
    "b = weather_model_0.state_dict()[\"0.bias\"][0].item()\n",
    "w0, w1, w2, b"
   ]
  },
  {
   "cell_type": "markdown",
   "metadata": {},
   "source": [
    "from the weights, we can deduce that the temperature has a positive relationship with the DewPoint, as it has a positive weight (first weight of the above).\n",
    "The Preassure has a negative relationship and humidity positive but not as strong.\n",
    "This proves our initial analysis as show again with the graphs below."
   ]
  },
  {
   "cell_type": "code",
   "execution_count": 559,
   "metadata": {},
   "outputs": [
    {
     "data": {
      "text/plain": [
       "Text(0, 0.5, '%')"
      ]
     },
     "execution_count": 559,
     "metadata": {},
     "output_type": "execute_result"
    },
    {
     "data": {
      "image/png": "[encoded data removed]",
      "text/plain": [
       "<Figure size 2000x600 with 3 Axes>"
      ]
     },
     "metadata": {},
     "output_type": "display_data"
    }
   ],
   "source": [
    "import matplotlib.pyplot as plt\n",
    "plt.figure(figsize=(20, 6))\n",
    "plt.subplot(1, 3, 1)\n",
    "plt.scatter(DewPoint, data[\"HourlyStationPressure\"]) \n",
    "plt.xlabel(\"DewPoint [ºC]\")\n",
    "plt.ylabel(\"Preassure [inHg]\")\n",
    "\n",
    "\n",
    "plt.subplot(1, 3, 2)\n",
    "plt.scatter(DewPoint, data[\"HourlyDryBulbTemperatureC\"]) \n",
    "plt.xlabel(\"DewPoint [ºC]\")\n",
    "plt.ylabel(\"Temperature [ºC]\")\n",
    "\n",
    "plt.subplot(1, 3, 3)\n",
    "plt.scatter(DewPoint, data[\"HourlyRelativeHumidity\"]) \n",
    "plt.xlabel(\"DewPoint [ºC]\")\n",
    "plt.ylabel(\"%\")"
   ]
  },
  {
   "cell_type": "markdown",
   "metadata": {},
   "source": [
    "we can also check the mean absolute error using our testing set:"
   ]
  },
  {
   "cell_type": "code",
   "execution_count": 561,
   "metadata": {},
   "outputs": [
    {
     "name": "stdout",
     "output_type": "stream",
     "text": [
      "Mean Absolute Error: 2.1237306594848633\n"
     ]
    }
   ],
   "source": [
    "from sklearn.metrics import mean_absolute_error\n",
    "# Turn model into evaluation mode\n",
    "weather_model_0.eval()\n",
    "# Make predictions on the test data\n",
    "with torch.inference_mode():\n",
    "    y_preds = weather_model_0(X_test)\n",
    "y_preds_numpy = y_preds.cpu().numpy()\n",
    "y_test_numpy = y_test.cpu().numpy()\n",
    "print(f\"Mean Absolute Error: {mean_absolute_error(y_test_numpy, y_preds_numpy)}\")"
   ]
  },
  {
   "cell_type": "markdown",
   "metadata": {},
   "source": [
    "### 1.14 How to improve the model?\n",
    "\n",
    "There are several options when trying to improve our model:\n",
    "* Using more Hidden Layers\n",
    "* Train for longer (more epochs)\n",
    "* Using more data (if available)\n",
    "* Using Non-Linear regressions"
   ]
  },
  {
   "cell_type": "markdown",
   "metadata": {},
   "source": [
    "to facilitate the following methods, I'm gonna define a function to train the model, so that we are not copying everying every time"
   ]
  },
  {
   "cell_type": "code",
   "execution_count": 685,
   "metadata": {},
   "outputs": [],
   "source": [
    "def train_model(model, loss_fn, optimizer, epochs=1000):\n",
    "    global X_train, y_train, y_pred, X_test\n",
    "    for epoch in range(epochs):\n",
    "        model.train()\n",
    "\n",
    "        y_pred = model(X_train)\n",
    "\n",
    "        loss = loss_fn(y_pred, y_train)\n",
    "\n",
    "        optimizer.zero_grad()\n",
    "\n",
    "        loss.backward()\n",
    "\n",
    "        optimizer.step()\n",
    "\n",
    "        model.eval()\n",
    "        with torch.inference_mode():\n",
    "            test_pred = model(X_test)\n",
    "        \n",
    "            test_loss = loss_fn(test_pred, y_test)\n",
    "\n",
    "        if epoch % 100 == 0:\n",
    "            print(f\"Epoch: {epoch} | Train loss: {loss} | Test loss: {test_loss}\")"
   ]
  },
  {
   "cell_type": "markdown",
   "metadata": {},
   "source": [
    "##### 1.14.1 Using more Hidden Layers"
   ]
  },
  {
   "cell_type": "code",
   "execution_count": 575,
   "metadata": {},
   "outputs": [],
   "source": [
    "weather_model_1 = nn.Sequential(\n",
    "    nn.Linear(in_features=3, out_features=8),\n",
    "    nn.Linear(in_features=8, out_features=1)\n",
    ").to(device)"
   ]
  },
  {
   "cell_type": "code",
   "execution_count": 577,
   "metadata": {},
   "outputs": [
    {
     "name": "stdout",
     "output_type": "stream",
     "text": [
      "Epoch: 0 | Train loss: 7.340668678283691 | Test loss: 6.714442253112793\n",
      "Epoch: 100 | Train loss: 3.896953821182251 | Test loss: 3.618457794189453\n",
      "Epoch: 200 | Train loss: 3.5506598949432373 | Test loss: 2.15268874168396\n",
      "Epoch: 300 | Train loss: 2.706245183944702 | Test loss: 1.8551849126815796\n",
      "Epoch: 400 | Train loss: 2.171288251876831 | Test loss: 1.657573938369751\n",
      "Epoch: 500 | Train loss: 1.7754206657409668 | Test loss: 1.5404307842254639\n",
      "Epoch: 600 | Train loss: 1.5233755111694336 | Test loss: 1.3761506080627441\n",
      "Epoch: 700 | Train loss: 1.3725961446762085 | Test loss: 1.2514433860778809\n",
      "Epoch: 800 | Train loss: 1.220037579536438 | Test loss: 1.1500192880630493\n",
      "Epoch: 900 | Train loss: 1.1221071481704712 | Test loss: 1.0730825662612915\n"
     ]
    }
   ],
   "source": [
    "train_model(model=weather_model_1, loss_fn=nn.L1Loss(), optimizer=torch.optim.SGD(params=weather_model_1.parameters(), lr=0.001))"
   ]
  },
  {
   "cell_type": "markdown",
   "metadata": {},
   "source": [
    "We can clearly see a reduction in the loss in comparison with the old model"
   ]
  },
  {
   "cell_type": "markdown",
   "metadata": {},
   "source": [
    "##### 1.14.2 Training for longer"
   ]
  },
  {
   "cell_type": "code",
   "execution_count": 581,
   "metadata": {},
   "outputs": [],
   "source": [
    "weather_model_0 = nn.Sequential(\n",
    "    nn.Linear(in_features=3, out_features=1)\n",
    ").to(device) # Same model as before"
   ]
  },
  {
   "cell_type": "code",
   "execution_count": 582,
   "metadata": {},
   "outputs": [
    {
     "name": "stdout",
     "output_type": "stream",
     "text": [
      "Epoch: 0 | Train loss: 26.8090763092041 | Test loss: 22.22393035888672\n",
      "Epoch: 100 | Train loss: 2.1608002185821533 | Test loss: 2.139124631881714\n",
      "Epoch: 200 | Train loss: 3.1767332553863525 | Test loss: 1.1565651893615723\n",
      "Epoch: 300 | Train loss: 3.363969564437866 | Test loss: 0.9918241500854492\n",
      "Epoch: 400 | Train loss: 3.236999750137329 | Test loss: 1.137007236480713\n",
      "Epoch: 500 | Train loss: 3.0447752475738525 | Test loss: 1.3344372510910034\n",
      "Epoch: 600 | Train loss: 2.9048497676849365 | Test loss: 1.4685781002044678\n",
      "Epoch: 700 | Train loss: 2.739445686340332 | Test loss: 1.6200255155563354\n",
      "Epoch: 800 | Train loss: 2.498448371887207 | Test loss: 1.863860845565796\n",
      "Epoch: 900 | Train loss: 2.373223066329956 | Test loss: 1.9890661239624023\n",
      "Epoch: 1000 | Train loss: 2.255051851272583 | Test loss: 2.1108860969543457\n",
      "Epoch: 1100 | Train loss: 2.176129102706909 | Test loss: 2.1528775691986084\n",
      "Epoch: 1200 | Train loss: 2.1514806747436523 | Test loss: 2.2105910778045654\n",
      "Epoch: 1300 | Train loss: 2.1246352195739746 | Test loss: 2.2116940021514893\n",
      "Epoch: 1400 | Train loss: 2.109062910079956 | Test loss: 2.2496564388275146\n",
      "Epoch: 1500 | Train loss: 2.0701522827148438 | Test loss: 2.270982265472412\n",
      "Epoch: 1600 | Train loss: 2.048426628112793 | Test loss: 2.3162996768951416\n",
      "Epoch: 1700 | Train loss: 2.039395809173584 | Test loss: 2.3249478340148926\n",
      "Epoch: 1800 | Train loss: 2.020653486251831 | Test loss: 2.3429458141326904\n",
      "Epoch: 1900 | Train loss: 2.018139600753784 | Test loss: 2.3449325561523438\n"
     ]
    }
   ],
   "source": [
    "train_model(model=weather_model_0, loss_fn=nn.L1Loss(), optimizer=torch.optim.SGD(params=weather_model_0.parameters(), lr=0.001), epochs=2000)"
   ]
  },
  {
   "cell_type": "markdown",
   "metadata": {},
   "source": [
    "where it did improve ever so slightly, but not that much as it had already converged"
   ]
  },
  {
   "cell_type": "markdown",
   "metadata": {},
   "source": [
    "##### 1.14.3 Using more data (if available)"
   ]
  },
  {
   "cell_type": "markdown",
   "metadata": {},
   "source": [
    "we can't really show this in this model as we do not have access to more data (we are using all of what we have), but we can show what would happen if we reduce the amount of data"
   ]
  },
  {
   "cell_type": "code",
   "execution_count": 604,
   "metadata": {},
   "outputs": [
    {
     "data": {
      "text/html": [
       "<div>\n",
       "<style scoped>\n",
       "    .dataframe tbody tr th:only-of-type {\n",
       "        vertical-align: middle;\n",
       "    }\n",
       "\n",
       "    .dataframe tbody tr th {\n",
       "        vertical-align: top;\n",
       "    }\n",
       "\n",
       "    .dataframe thead th {\n",
       "        text-align: right;\n",
       "    }\n",
       "</style>\n",
       "<table border=\"1\" class=\"dataframe\">\n",
       "  <thead>\n",
       "    <tr style=\"text-align: right;\">\n",
       "      <th></th>\n",
       "      <th>HourlyDryBulbTemperatureC</th>\n",
       "      <th>HourlyStationPressure</th>\n",
       "      <th>HourlyRelativeHumidity</th>\n",
       "    </tr>\n",
       "  </thead>\n",
       "  <tbody>\n",
       "    <tr>\n",
       "      <th>count</th>\n",
       "      <td>300.000000</td>\n",
       "      <td>300.000000</td>\n",
       "      <td>300.000000</td>\n",
       "    </tr>\n",
       "    <tr>\n",
       "      <th>mean</th>\n",
       "      <td>-3.753000</td>\n",
       "      <td>29.377633</td>\n",
       "      <td>62.326667</td>\n",
       "    </tr>\n",
       "    <tr>\n",
       "      <th>std</th>\n",
       "      <td>6.840751</td>\n",
       "      <td>0.244754</td>\n",
       "      <td>10.572886</td>\n",
       "    </tr>\n",
       "    <tr>\n",
       "      <th>min</th>\n",
       "      <td>-18.300000</td>\n",
       "      <td>28.920000</td>\n",
       "      <td>37.000000</td>\n",
       "    </tr>\n",
       "    <tr>\n",
       "      <th>25%</th>\n",
       "      <td>-8.300000</td>\n",
       "      <td>29.200000</td>\n",
       "      <td>54.750000</td>\n",
       "    </tr>\n",
       "    <tr>\n",
       "      <th>50%</th>\n",
       "      <td>-5.000000</td>\n",
       "      <td>29.440000</td>\n",
       "      <td>63.000000</td>\n",
       "    </tr>\n",
       "    <tr>\n",
       "      <th>75%</th>\n",
       "      <td>1.250000</td>\n",
       "      <td>29.592500</td>\n",
       "      <td>71.000000</td>\n",
       "    </tr>\n",
       "    <tr>\n",
       "      <th>max</th>\n",
       "      <td>11.700000</td>\n",
       "      <td>29.740000</td>\n",
       "      <td>85.000000</td>\n",
       "    </tr>\n",
       "  </tbody>\n",
       "</table>\n",
       "</div>"
      ],
      "text/plain": [
       "       HourlyDryBulbTemperatureC  HourlyStationPressure  \\\n",
       "count                 300.000000             300.000000   \n",
       "mean                   -3.753000              29.377633   \n",
       "std                     6.840751               0.244754   \n",
       "min                   -18.300000              28.920000   \n",
       "25%                    -8.300000              29.200000   \n",
       "50%                    -5.000000              29.440000   \n",
       "75%                     1.250000              29.592500   \n",
       "max                    11.700000              29.740000   \n",
       "\n",
       "       HourlyRelativeHumidity  \n",
       "count              300.000000  \n",
       "mean                62.326667  \n",
       "std                 10.572886  \n",
       "min                 37.000000  \n",
       "25%                 54.750000  \n",
       "50%                 63.000000  \n",
       "75%                 71.000000  \n",
       "max                 85.000000  "
      ]
     },
     "execution_count": 604,
     "metadata": {},
     "output_type": "execute_result"
    }
   ],
   "source": [
    "less_data = data[:300] # only first 300\n",
    "less_DewPoints = DewPoint[:300]\n",
    "less_data.describe()"
   ]
  },
  {
   "cell_type": "code",
   "execution_count": 605,
   "metadata": {},
   "outputs": [],
   "source": [
    "weather_model_0 = nn.Sequential(\n",
    "    nn.Linear(in_features=3, out_features=1)\n",
    ").to(device) # Same model as before"
   ]
  },
  {
   "cell_type": "code",
   "execution_count": 606,
   "metadata": {},
   "outputs": [
    {
     "data": {
      "text/plain": [
       "(torch.Size([240, 3]), torch.Size([240, 1]))"
      ]
     },
     "execution_count": 606,
     "metadata": {},
     "output_type": "execute_result"
    }
   ],
   "source": [
    "# importing a splitting function\n",
    "from sklearn.model_selection import train_test_split\n",
    "# Split data\n",
    "\n",
    "tensor_data = torch.from_numpy(less_data.to_numpy()).to(device).type(torch.float)\n",
    "tensor_DewPoint = torch.from_numpy(less_DewPoints.to_numpy()).to(device).type(torch.float).unsqueeze(dim=1)\n",
    "\n",
    "X_train, X_test, y_train, y_test = train_test_split(tensor_data, tensor_DewPoint, test_size=0.2)\n",
    "\n",
    "len(X_train), len(y_train), len(X_test), len(y_test)\n",
    "X_train.shape, y_train.shape"
   ]
  },
  {
   "cell_type": "code",
   "execution_count": 607,
   "metadata": {},
   "outputs": [
    {
     "name": "stdout",
     "output_type": "stream",
     "text": [
      "Epoch: 0 | Train loss: 8.186518669128418 | Test loss: 6.888984203338623\n",
      "Epoch: 100 | Train loss: 5.01390266418457 | Test loss: 4.3356499671936035\n",
      "Epoch: 200 | Train loss: 2.725486993789673 | Test loss: 2.593536376953125\n",
      "Epoch: 300 | Train loss: 1.5810418128967285 | Test loss: 2.3296408653259277\n",
      "Epoch: 400 | Train loss: 1.3299658298492432 | Test loss: 3.2869229316711426\n",
      "Epoch: 500 | Train loss: 1.081018090248108 | Test loss: 3.496824264526367\n",
      "Epoch: 600 | Train loss: 0.9870669841766357 | Test loss: 3.532650947570801\n",
      "Epoch: 700 | Train loss: 0.9503712058067322 | Test loss: 3.7171432971954346\n",
      "Epoch: 800 | Train loss: 1.016397476196289 | Test loss: 3.741940498352051\n",
      "Epoch: 900 | Train loss: 0.9158197045326233 | Test loss: 3.748814821243286\n"
     ]
    }
   ],
   "source": [
    "train_model(model=weather_model_0, loss_fn=nn.L1Loss(), optimizer=torch.optim.SGD(params=weather_model_0.parameters(), lr=0.001))"
   ]
  },
  {
   "cell_type": "markdown",
   "metadata": {},
   "source": [
    "where it would look like it's better because of the train loss, but when looking at the test loss, which is the one using the testing set and so the one we care about, we clearly see it's higher"
   ]
  },
  {
   "cell_type": "markdown",
   "metadata": {},
   "source": [
    "##### 1.14.3 Using Non-Linear Regressions"
   ]
  },
  {
   "cell_type": "markdown",
   "metadata": {},
   "source": [
    "What if the data doesn't follow lines but a quadratic equation? Try giving the model more datapoints which are the squares, cubes, sines, exponentials of the other datapoints. That's because if the equation the data follows is Y = ax^2 + bx + c, we could convert it into a linear equation just by saying Z = x^2. Now Y = aZ + bx + c, where Z and x are datapoints"
   ]
  }
 ],
 "metadata": {
  "kernelspec": {
   "display_name": "Python 3",
   "language": "python",
   "name": "python3"
  },
  "language_info": {
   "codemirror_mode": {
    "name": "ipython",
    "version": 3
   },
   "file_extension": ".py",
   "mimetype": "text/x-python",
   "name": "python",
   "nbconvert_exporter": "python",
   "pygments_lexer": "ipython3",
   "version": "3.11.6"
  }
 },
 "nbformat": 4,
 "nbformat_minor": 2
}
